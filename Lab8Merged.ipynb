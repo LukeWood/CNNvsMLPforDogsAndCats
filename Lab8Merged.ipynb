{
 "cells": [
  {
   "cell_type": "markdown",
   "metadata": {
    "collapsed": true
   },
   "source": [
    "# It's Raining Cats and Dogs!\n",
    "   \n",
    "##  Lab Assignment Eight: The Storm Continues\n",
    "   \n",
    "### Justin Ledford, Luke Wood, Traian Pop"
   ]
  },
  {
   "cell_type": "markdown",
   "metadata": {
    "collapsed": true
   },
   "source": [
    "## Business Understanding\n",
    "\n",
    "### Overview\n",
    "   \n",
    "The data set we are analyzing has over 25000 evenly distributed pictures of dogs and cats. We found it on https://www.kaggle.com/c/dogs-vs-cats and decided it would be a good set to practice processing and analyzing image data due to the clear classification metric of dogs|cats and the large number of high quality photos.\n",
    " \n",
    "### Purpose \n",
    "   \n",
    "This data was originally collected for the purpose of a competition hosted by Kaggle to see who could create the most accurate algorithm that could distinguish between pictures of dogs and cats. Petfined.com are the original owners of the data, and they donated over 3 million pictures of sheltered animals that have been hand classified by them. Because of this, we are highly confident in the data, as the vast majority of humans can successfully identify between a dog and a cat. \n",
    "   \n",
    "The competition itself is long over, but the page still remains for people to play and experiment with the data. This data is important due to potential it holds to help develop and train algorithms that could be used to evolve image recognition software. We can progressively check how useful the data we get from the set is by comparing it against our own classification and seeing if our own conclusions (i.e. if an image classifies a cat or not) match with the information we collect from it. \n",
    "\n",
    "### Predictions\n",
    "   \n",
    "We are not expecting perfect results as cats and dogs can look fairly similar at times, and the black and white color format of the pictures already limits easily differential characteristics between the two animals, such as fur color. However, we do believe that due to the large number and quality of the pictures, we can definitely expect to get a large amount of successful results when processing and analyzing the data.\n",
    "\n",
    "### Applications\n",
    "This dataset could be used to train an image classifier that could be used by hotels or apartment that only allow one type of pet.  For example, Luke's apartment complex only allows cats to stay in the homes so the complex could theoretically place cameras in the hallway and test to see which type of pets are being brought in.  This would allow them to more efficiently enforce the no dogs rule which is frequently broken.  \n",
    "\n",
    "Another application is it could also be used for cataloging by a pet shelter to allow owners to search for cats or dogs similar to one they are looking for.\n",
    "\n",
    "A third application would be to track the history of animals by taking pictures of them at each shelter and documenting information about the animal at each stage."
   ]
  },
  {
   "cell_type": "markdown",
   "metadata": {},
   "source": [
    "## Data Preparation (40 Points Total)"
   ]
  },
  {
   "cell_type": "markdown",
   "metadata": {},
   "source": [
    "In this section, we pre-process the data in order to be usable by our techniques. The first method represents how we take all the images in a given folder (after they have been modified by our own scripts) and append them together to be analyzed later.\n",
    "   \n",
    "In pre-processing the data, we used three separate scripts:\n",
    "   \n",
    "<B>1) aspect</B>: Script developed by Fred Weinhaus (http://www.fmwconcepts.com/imagemagick/aspect/index.php) in order to resize an image to a specific size using imagmagick (https://www.imagemagick.org/) allowing either cropping or padding to deal with the aspect ratio change. (Not shown due to length)\n",
    "   \n",
    "<B>2) process.sh</B>: Script that shrinks images to 150 x 150 while simultaneously using aspect to ensure accuracy. Uses padding to fill space leftover. Leaves all original content there, but adds noise to the edges to fill blanks.\n",
    "   \n",
    "<B>3) crop_process.sh</B>: Script that shrinks images to 150 x 150 while simultaneously using aspect to ensure accuracy. Instead of padding, it simply crops the image in respective to the middle of the original image. Loses quality and detail but no additional noise is added.\n",
    "   \n",
    "Afterward we preprocess the images with aspect and one of the following scripts, we append them all together in one dataframe."
   ]
  },
  {
   "cell_type": "markdown",
   "metadata": {},
   "source": [
    "### Importing the Data"
   ]
  },
  {
   "cell_type": "code",
   "execution_count": 11,
   "metadata": {
    "collapsed": true
   },
   "outputs": [],
   "source": [
    "import numpy as np\n",
    "from PIL import Image\n",
    "import pandas as pd\n",
    "import os\n",
    "import glob\n",
    "import plotly\n",
    "import matplotlib.pyplot as plt\n",
    "%matplotlib inline \n",
    "\n",
    "#ignore warnings\n",
    "import warnings\n",
    "warnings.simplefilter('ignore', DeprecationWarning)\n",
    "warnings.simplefilter('ignore', FutureWarning)\n",
    "\n",
    "def warn(*args, **kwargs):\n",
    "    pass\n",
    "warnings.warn = warn\n",
    "\n",
    "w,h = 50,50\n",
    "\n",
    "def wildcard_to_df(fpath, greyscale=True):\n",
    "    X = []\n",
    "    y = []\n",
    "    \n",
    "    for img_file in glob.iglob(fpath):\n",
    "        # Read in img as greyscale\n",
    "        with Image.open(img_file).convert(\"L\") as img:\n",
    "\n",
    "            # Keep y for each image in separate array\n",
    "            if 'cat' in img_file:\n",
    "                y.append(0)\n",
    "            else:\n",
    "                y.append(1)\n",
    "\n",
    "            # Concatenate RGB into one row and collect\n",
    "            X.append(np.concatenate(np.array(img)))\n",
    "\n",
    "    X = np.array(X)\n",
    "    y = np.array(y)\n",
    "\n",
    "    #convert to DF\n",
    "    return pd.DataFrame(data=X, index=y), X, y"
   ]
  },
  {
   "cell_type": "code",
   "execution_count": 49,
   "metadata": {
    "collapsed": true
   },
   "outputs": [],
   "source": [
    "#convert to dataframe\n",
    "df, X, y = wildcard_to_df('data/data/small/*.jpg')"
   ]
  },
  {
   "cell_type": "code",
   "execution_count": 3,
   "metadata": {
    "collapsed": false
   },
   "outputs": [
    {
     "data": {
      "image/png": "[encoded data removed]",
      "text/plain": [
       "<matplotlib.figure.Figure at 0x7f8bb721b550>"
      ]
     },
     "metadata": {},
     "output_type": "display_data"
    }
   ],
   "source": [
    "# a helper plotting function (modified code from Professor Eric Larson's repository)\n",
    "def plot_gallery(images, h, w, n_row=3, n_col=6):\n",
    "    \"\"\"Helper function to plot a gallery of portraits\"\"\"\n",
    "    plt.figure(figsize=(1.7 * n_col, 2.3 * n_row))\n",
    "    plt.subplots_adjust(bottom=0, left=.01, right=.99, top=.90, hspace=.35)\n",
    "    for i in range(n_row * n_col):\n",
    "        plt.subplot(n_row, n_col, i + 1)\n",
    "        plt.imshow(images[i].reshape((h, w)), cmap=plt.cm.gray)\n",
    "        plt.xticks(())\n",
    "        plt.yticks(())\n",
    "\n",
    "w,h = (50,50)\n",
    "plot_gallery(X, h, w) # defaults to showing a 3 by 6 subset of the faces\n",
    "# Visualize some images\n",
    "plt.show()"
   ]
  },
  {
   "cell_type": "markdown",
   "metadata": {},
   "source": [
    "Sample of random images taken from our dataset."
   ]
  },
  {
   "cell_type": "markdown",
   "metadata": {},
   "source": [
    "### Metrics of Evaluation"
   ]
  },
  {
   "cell_type": "markdown",
   "metadata": {},
   "source": [
    "For our data set, we decided that just accuracy would be the best way to measure success due to the nature of the dataset. We are not interested in false positives or negatives, just simply at the classification success of seeing if it is a dog or a cat due to the purpose of our application."
   ]
  },
  {
   "cell_type": "markdown",
   "metadata": {},
   "source": [
    "### Splitting the Data"
   ]
  },
  {
   "cell_type": "code",
   "execution_count": 4,
   "metadata": {
    "collapsed": false
   },
   "outputs": [
    {
     "name": "stderr",
     "output_type": "stream",
     "text": [
      "Using TensorFlow backend.\n"
     ]
    }
   ],
   "source": [
    "import keras\n",
    "from keras.models import Sequential\n",
    "from keras.layers import Reshape\n",
    "from keras.layers import Dense, Dropout, Activation, Flatten\n",
    "from keras.layers import Conv2D, MaxPooling2D"
   ]
  },
  {
   "cell_type": "code",
   "execution_count": 50,
   "metadata": {
    "collapsed": false
   },
   "outputs": [
    {
     "data": {
      "text/plain": [
       "(1600, 2500)"
      ]
     },
     "execution_count": 50,
     "metadata": {},
     "output_type": "execute_result"
    }
   ],
   "source": [
    "from sklearn.model_selection import train_test_split\n",
    "\n",
    "NUM_CLASSES = 2\n",
    "X = X.astype(np.float32)\n",
    "y = y.astype(np.int32)\n",
    "X = X/255\n",
    "X_train, X_test, y_train, y_test = train_test_split(X, y, test_size=0.2)\n",
    "y_train_ohe = keras.utils.to_categorical(y_train, NUM_CLASSES)\n",
    "y_test_ohe = keras.utils.to_categorical(y_test, NUM_CLASSES)\n",
    "\n",
    "X_train.shape"
   ]
  },
  {
   "cell_type": "markdown",
   "metadata": {},
   "source": [
    "We used just a simple shuffle split for our data due to the large dataset. In addition, our dataset was provided with a separate test directory with 500 images in order to valdiate our data, so the need for an optimal split was not as necessary."
   ]
  },
  {
   "cell_type": "markdown",
   "metadata": {},
   "source": [
    "## Modeling "
   ]
  },
  {
   "cell_type": "markdown",
   "metadata": {},
   "source": [
    "### Creating the Network"
   ]
  },
  {
   "cell_type": "markdown",
   "metadata": {},
   "source": [
    "In this section, we start creating both our network and the MLP that we will use as a relative measure of performance."
   ]
  },
  {
   "cell_type": "code",
   "execution_count": 36,
   "metadata": {
    "collapsed": false
   },
   "outputs": [
    {
     "name": "stdout",
     "output_type": "stream",
     "text": [
      "CPU times: user 32.5 s, sys: 6.56 s, total: 39.1 s\n",
      "Wall time: 17.5 s\n"
     ]
    }
   ],
   "source": [
    "%%time\n",
    "# make a 3 layer keras MLP\n",
    "mlp = Sequential()\n",
    "mlp.add( Dense(input_dim=X_train.shape[1], units=30, activation='relu') )\n",
    "mlp.add( Dense(units=15, activation='relu') )\n",
    "mlp.add( Dense(NUM_CLASSES) )\n",
    "mlp.add( Activation('softmax') )\n",
    "\n",
    "mlp.compile(loss='mean_squared_error',\n",
    "              optimizer='rmsprop',\n",
    "              metrics=['accuracy'])\n",
    "\n",
    "mlp.fit(X_train, y_train_ohe, \n",
    "        batch_size=32, epochs=150, \n",
    "        shuffle=True, verbose=0)"
   ]
  },
  {
   "cell_type": "code",
   "execution_count": 38,
   "metadata": {
    "collapsed": false
   },
   "outputs": [
    {
     "name": "stdout",
     "output_type": "stream",
     "text": [
      "[[118  74]\n",
      " [ 83 125]]\n",
      "0.6075\n"
     ]
    }
   ],
   "source": [
    "yhat_mlp = np.argmax(mlp.predict(X_test), axis=1)\n",
    "acc_mlp = mt.accuracy_score(y_test,yhat_mlp)\n",
    "cm = mt.confusion_matrix(y_test,yhat_mlp)\n",
    "print(cm)\n",
    "print(acc_mlp)"
   ]
  },
  {
   "cell_type": "markdown",
   "metadata": {},
   "source": [
    "The MLP gets 60% accuracy which is pretty decent considering the complexity of the problem."
   ]
  },
  {
   "cell_type": "code",
   "execution_count": 7,
   "metadata": {
    "collapsed": false
   },
   "outputs": [
    {
     "name": "stdout",
     "output_type": "stream",
     "text": [
      "CPU times: user 1min 32s, sys: 17.4 s, total: 1min 49s\n",
      "Wall time: 37.2 s\n"
     ]
    }
   ],
   "source": [
    "%%time\n",
    "\n",
    "# make a CNN with conv layer and max pooling\n",
    "cnn = Sequential()\n",
    "cnn.add(Reshape((1,50,50), input_shape=(1,2500)))\n",
    "cnn.add(Conv2D(filters=16, kernel_size= (2, 2), padding='same', input_shape=(1,150,150)))\n",
    "cnn.add(Activation('relu'))\n",
    "cnn.add(MaxPooling2D(pool_size=(2, 2), data_format=\"channels_first\"))\n",
    "# add one layer on flattened output\n",
    "cnn.add(Flatten())\n",
    "cnn.add(Dense(NUM_CLASSES))\n",
    "cnn.add(Activation('softmax'))\n",
    "\n",
    "# Let's train the model \n",
    "cnn.compile(loss='mean_squared_error',\n",
    "              optimizer='rmsprop',\n",
    "              metrics=['accuracy'])\n",
    "\n",
    "# we need to exapnd the dimensions here to give the \n",
    "#   \"channels\" dimension expected by Keras\n",
    "cnn.fit(np.expand_dims(X_train, axis=1), y_train_ohe, \n",
    "        batch_size=32, epochs=150, \n",
    "        shuffle=True, verbose=0)"
   ]
  },
  {
   "cell_type": "code",
   "execution_count": 8,
   "metadata": {
    "collapsed": false
   },
   "outputs": [
    {
     "name": "stdout",
     "output_type": "stream",
     "text": [
      "[[113  83]\n",
      " [ 88 116]]\n"
     ]
    }
   ],
   "source": [
    "import sklearn.metrics as mt\n",
    "\n",
    "yhat_cnn = np.argmax(cnn.predict(np.expand_dims(X_test, axis=1)), axis=1)\n",
    "acc_cnn = mt.accuracy_score(y_test,yhat_cnn)\n",
    "cm = mt.confusion_matrix(y_test,yhat_cnn)\n",
    "print(cm)"
   ]
  },
  {
   "cell_type": "code",
   "execution_count": 9,
   "metadata": {
    "collapsed": false
   },
   "outputs": [
    {
     "data": {
      "text/plain": [
       "0.57250000000000001"
      ]
     },
     "execution_count": 9,
     "metadata": {},
     "output_type": "execute_result"
    }
   ],
   "source": [
    "acc_cnn"
   ]
  },
  {
   "cell_type": "markdown",
   "metadata": {},
   "source": [
    "Our initial performance of 57% is not very ideal, so it might be more beneficial to change our architecture a bit.  It is important to note that our initial CNN architecture performed worse than a standard MLP which is pretty bad seeing as Convolutional Neural Networks are designed specifically to analyze images."
   ]
  },
  {
   "cell_type": "code",
   "execution_count": 51,
   "metadata": {
    "collapsed": false
   },
   "outputs": [
    {
     "data": {
      "text/plain": [
       "<keras.callbacks.History at 0x7f8bd48f1860>"
      ]
     },
     "execution_count": 51,
     "metadata": {},
     "output_type": "execute_result"
    }
   ],
   "source": [
    "#architecture #2\n",
    "# make a CNN with conv layer and max pooling\n",
    "cnn2 = Sequential()\n",
    "cnn2.add(Reshape((1,50,50), input_shape=(1,2500)))\n",
    "cnn2.add(Conv2D(filters=16, kernel_size= (2, 2), padding='same', input_shape=(1,50,50)))\n",
    "cnn2.add(Activation('relu'))\n",
    "cnn2.add(MaxPooling2D(pool_size=(2, 2), data_format=\"channels_first\"))\n",
    "\n",
    "cnn2.add(Conv2D(filters=16, kernel_size= (2, 2), padding='same', input_shape=(1,25,25)))\n",
    "cnn2.add(Activation('relu'))\n",
    "cnn2.add(MaxPooling2D(pool_size=(2, 2), data_format=\"channels_first\"))\n",
    "\n",
    "# add one layer on flattened output\n",
    "cnn2.add(Flatten())\n",
    "cnn2.add(Dense(NUM_CLASSES))\n",
    "cnn2.add(Activation('softmax'))\n",
    "\n",
    "# Let's train the model \n",
    "cnn2.compile(loss='mean_squared_error',\n",
    "              optimizer='rmsprop',\n",
    "              metrics=['accuracy'])\n",
    "\n",
    "# we need to exapnd the dimensions here to give the \n",
    "#   \"channels\" dimension expected by Keras\n",
    "cnn2.fit(np.expand_dims(X_train, axis=1), y_train_ohe, \n",
    "        batch_size=32, epochs=150, \n",
    "        shuffle=True, verbose=0)"
   ]
  },
  {
   "cell_type": "code",
   "execution_count": 52,
   "metadata": {
    "collapsed": false
   },
   "outputs": [
    {
     "name": "stdout",
     "output_type": "stream",
     "text": [
      "[[ 93 100]\n",
      " [ 63 144]]\n",
      "0.5925\n"
     ]
    }
   ],
   "source": [
    "import sklearn.metrics as mt\n",
    "\n",
    "yhat_cnn2 = np.argmax(cnn2.predict(np.expand_dims(X_test, axis=1)), axis=1)\n",
    "acc_cnn2 = mt.accuracy_score(y_test,yhat_cnn2)\n",
    "cm2 = mt.confusion_matrix(y_test,yhat_cnn2)\n",
    "print(cm2)\n",
    "print(acc_cnn2)"
   ]
  },
  {
   "cell_type": "markdown",
   "metadata": {},
   "source": [
    "Our performance improvement from changing the architecture and adding an extra convolution brought it up to 59.25% accuracy.  This is still worse than the MLP but is better than our last architecture.  We decided that possibly by using more data we could improve our CNNs performance."
   ]
  },
  {
   "cell_type": "markdown",
   "metadata": {},
   "source": [
    "### Data Addition and Generation"
   ]
  },
  {
   "cell_type": "markdown",
   "metadata": {},
   "source": [
    "First, we load an additional 22,000 images into the dataset. "
   ]
  },
  {
   "cell_type": "code",
   "execution_count": 12,
   "metadata": {
    "collapsed": false
   },
   "outputs": [
    {
     "data": {
      "text/plain": [
       "(20000, 50, 50, 1)"
      ]
     },
     "execution_count": 12,
     "metadata": {},
     "output_type": "execute_result"
    }
   ],
   "source": [
    "import copy\n",
    "df, X, y = wildcard_to_df('data/data/large/*.jpg')\n",
    "\n",
    "NUM_CLASSES = 2\n",
    "X = X.astype(np.float32)\n",
    "y = y.astype(np.int32)\n",
    "X = X/255\n",
    "\n",
    "X_train, X_test, y_train, y_test = train_test_split(X, y, test_size=0.2)\n",
    "\n",
    "y_train_ohe = keras.utils.to_categorical(y_train, NUM_CLASSES)\n",
    "y_test_ohe = keras.utils.to_categorical(y_test, NUM_CLASSES)\n",
    "\n",
    "X_train_mlp = copy.deepcopy(X_train)\n",
    "X_test_mlp = copy.deepcopy(X_test)\n",
    "\n",
    "X_train = np.expand_dims(X_train.reshape((-1,w,h)), axis=3)\n",
    "X_test = np.expand_dims(X_test.reshape((-1,w,h)), axis=3)\n",
    "\n",
    "X_train.shape\n"
   ]
  },
  {
   "cell_type": "code",
   "execution_count": 13,
   "metadata": {
    "collapsed": false
   },
   "outputs": [
    {
     "name": "stdout",
     "output_type": "stream",
     "text": [
      "CPU times: user 6min 30s, sys: 1min 33s, total: 8min 4s\n",
      "Wall time: 3min 33s\n"
     ]
    }
   ],
   "source": [
    "%%time\n",
    "\n",
    "mlp = Sequential()\n",
    "mlp.add( Dense(input_dim=X_train_mlp.shape[1], units=30, activation='relu') )\n",
    "mlp.add( Dense(units=15, activation='relu') )\n",
    "mlp.add( Dense(NUM_CLASSES) )\n",
    "mlp.add( Activation('softmax') )\n",
    "\n",
    "mlp.compile(loss='mean_squared_error',\n",
    "              optimizer='rmsprop',\n",
    "              metrics=['accuracy'])\n",
    "\n",
    "mlp.fit(X_train_mlp, y_train_ohe, \n",
    "        batch_size=32, epochs=150, \n",
    "        shuffle=True, verbose=0)"
   ]
  },
  {
   "cell_type": "code",
   "execution_count": 14,
   "metadata": {
    "collapsed": false
   },
   "outputs": [
    {
     "name": "stdout",
     "output_type": "stream",
     "text": [
      "[[1904  616]\n",
      " [1511  969]]\n",
      "0.5746\n"
     ]
    }
   ],
   "source": [
    "import sklearn.metrics as mt\n",
    "\n",
    "yhat_mlp = np.argmax(mlp.predict(X_test_mlp), axis=1)\n",
    "acc_mlp = mt.accuracy_score(y_test,yhat_mlp)\n",
    "cm = mt.confusion_matrix(y_test,yhat_mlp)\n",
    "print(cm)\n",
    "print(acc_mlp)"
   ]
  },
  {
   "cell_type": "markdown",
   "metadata": {},
   "source": [
    "We created an MLP with three layers and ended up getting 57.46% accuracy.  This is pretty mediocre still but is not that far off from what we got before."
   ]
  },
  {
   "cell_type": "code",
   "execution_count": 32,
   "metadata": {
    "collapsed": true
   },
   "outputs": [],
   "source": [
    "# Generate more traning data by transforming training data\n",
    "\n",
    "from keras.preprocessing.image import ImageDataGenerator\n",
    "\n",
    "\n",
    "datagen = ImageDataGenerator(featurewise_center=False,\n",
    "    samplewise_center=False,\n",
    "    featurewise_std_normalization=False,\n",
    "    samplewise_std_normalization=False,\n",
    "    zca_whitening=False,\n",
    "    rotation_range=5, # used, Int. Degree range for random rotations.\n",
    "    width_shift_range=0.1, # used, Float (fraction of total width). Range for random horizontal shifts.\n",
    "    height_shift_range=0.1, # used,  Float (fraction of total height). Range for random vertical shifts.\n",
    "    shear_range=0., # Float. Shear Intensity (Shear angle in counter-clockwise direction as radians)\n",
    "    zoom_range=0.,\n",
    "    channel_shift_range=0.,\n",
    "    fill_mode='nearest',\n",
    "    cval=0.,\n",
    "    horizontal_flip=False,\n",
    "    vertical_flip=False,\n",
    "    rescale=None)\n",
    "\n",
    "datagen.fit(X_train)"
   ]
  },
  {
   "cell_type": "markdown",
   "metadata": {},
   "source": [
    "Below is the CNN we trained on an AWS GPU instance with all the new data. It took about 20 minutes to train and got to approximately 81% on validation accuracy.\n",
    "\n",
    "```python\n",
    "from keras.regularizers import l2 \n",
    "l2_lambda = 0.0001\n",
    "\n",
    "# make a CNN with conv layer and max pooling\n",
    "cnn = Sequential()\n",
    "\n",
    "cnn.add(Conv2D(filters=32, input_shape=(w, h, 1),\n",
    "                kernel_size=3, kernel_initializer='he_uniform',\n",
    "                kernel_regularizer=l2(l2_lambda), padding='same', activation='relu'))\n",
    "cnn.add(MaxPooling2D(pool_size=2, data_format=\"channels_first\"))\n",
    "\n",
    "cnn.add(Conv2D(filters=64, kernel_size=3, kernel_initializer='he_uniform',\n",
    "                kernel_regularizer=l2(l2_lambda), padding='same', activation='relu'))\n",
    "cnn.add(MaxPooling2D(pool_size=2, data_format=\"channels_first\"))\n",
    "\n",
    "\n",
    "# add one layer on flattened output\n",
    "cnn.add(Dropout(0.25)) # add some dropout for regularization after conv layers\n",
    "cnn.add(Flatten())\n",
    "cnn.add(Dense(128, \n",
    "              activation='relu',\n",
    "              kernel_initializer='he_uniform',\n",
    "              kernel_regularizer=l2(l2_lambda)\n",
    "       ))\n",
    "cnn.add(Dropout(0.5)) # add some dropout for regularization, again!\n",
    "cnn.add(Dense(NUM_CLASSES, \n",
    "              activation='softmax', \n",
    "              kernel_initializer='glorot_uniform',\n",
    "              kernel_regularizer=l2(l2_lambda)\n",
    "             ))\n",
    "\n",
    "# Let's train the model \n",
    "cnn.compile(loss='binary_crossentropy',\n",
    "              optimizer='adam',\n",
    "              metrics=['accuracy'])\n",
    "\n",
    "# we need to exapnd the dimensions here to give the \n",
    "#   \"channels\" dimension expected by Keras\n",
    "#cnn.fit(np.expand_dims(X_train, axis=1), y_train_ohe, \n",
    "#        batch_size=256, epochs=50, \n",
    "#        shuffle=False, verbose=0, callbacks=[TQDMNotebookCallback()])\n",
    "\n",
    "# the flow method yields batches of images indefinitely, with the given transformations\n",
    "cnn.fit_generator(datagen.flow(X_train, y_train_ohe, batch_size=128), \n",
    "                   steps_per_epoch=int(len(X_train)/128), # how many generators to go through per epoch\n",
    "                   epochs=50, verbose=0, callbacks=[TQDMNotebookCallback()],\n",
    "                   validation_data=(X_test,y_test_ohe)\n",
    "                  )\n",
    "```"
   ]
  },
  {
   "cell_type": "code",
   "execution_count": 15,
   "metadata": {
    "collapsed": true
   },
   "outputs": [],
   "source": [
    "import h5py\n",
    "import sklearn.metrics as mt\n",
    "from keras.models import load_model\n",
    "import tensorflow as tf\n",
    "sess = tf.InteractiveSession()\n",
    "with sess.as_default():\n",
    "    cnn = load_model('cnn_81.h5')"
   ]
  },
  {
   "cell_type": "markdown",
   "metadata": {},
   "source": [
    "We saved our CNN to a file called cnn_81.h5, named after the accuracy it achieved on the validation set."
   ]
  },
  {
   "cell_type": "code",
   "execution_count": 16,
   "metadata": {
    "collapsed": false
   },
   "outputs": [
    {
     "name": "stdout",
     "output_type": "stream",
     "text": [
      "[[2048  472]\n",
      " [ 315 2165]]\n",
      "0.8426\n"
     ]
    }
   ],
   "source": [
    "with sess.as_default():\n",
    "    yhat_cnn = np.argmax(cnn.predict(X_test), axis=1)\n",
    "    acc_cnn = mt.accuracy_score(y_test,yhat_cnn)\n",
    "    cm = mt.confusion_matrix(y_test,yhat_cnn)\n",
    "    print(cm)\n",
    "    print(acc_cnn)"
   ]
  },
  {
   "cell_type": "markdown",
   "metadata": {},
   "source": [
    "As we can see, CNN_81 gets slightly above 81% accuracy due to it having already been exposed to some of the data here."
   ]
  },
  {
   "cell_type": "markdown",
   "metadata": {},
   "source": [
    "### [20 points] Investigate at least two different deep network architectures. Use the method of cross validation and evaluation metric that you argued for at the beginning of the lab. Visualize the results of the CNNs. "
   ]
  },
  {
   "cell_type": "code",
   "execution_count": null,
   "metadata": {
    "collapsed": true
   },
   "outputs": [],
   "source": [
    "%%time\n",
    "\n",
    "# Compare different archs\n",
    "df, X, y = wildcard_to_df('data/data/large/*.jpg')\n",
    "\n",
    "X = X.astype(np.float32)\n",
    "y = y.astype(np.int32)\n",
    "X = X/255\n",
    "\n",
    "n_splits = 5 \n",
    "\n",
    "cnn1_scores = []\n",
    "cnn2_scores = []\n",
    "\n",
    "# Stratified shuffle split where training set is balanced, test set unbalanced\n",
    "for i in range(0, n_splits):\n",
    "    \n",
    "    X_train, X_test, y_train, y_test = train_test_split(X, y, test_size=0.2)\n",
    "    \n",
    "    X_train_mlp = copy.deepcopy(X_train)\n",
    "    X_test_mlp = copy.deepcopy(X_test)\n",
    "\n",
    "    X_train = np.expand_dims(X_train.reshape((-1,w,h)), axis=3)\n",
    "    X_test = np.expand_dims(X_test.reshape((-1,w,h)), axis=3)\n",
    "\n",
    "    y_test = df_test_sample['income']\n",
    "\n",
    "    yhat_dnn1 = list(dnn1.predict(input_fn=output_wrapper))\n",
    "    print('DNN1')\n",
    "    print(confusion_matrix(y_test,yhat_dnn1),\n",
    "          recall_score(y_test,yhat_dnn1))\n",
    "    \n",
    "    \n",
    "    dnn2.fit(input_fn=input_wrapper, steps=500)\n",
    "    yhat_dnn2 = list(dnn2.predict(input_fn=output_wrapper))\n",
    "    print('DNN2')\n",
    "    print(confusion_matrix(y_test,yhat_dnn2),\n",
    "          recall_score(y_test,yhat_dnn2))\n",
    "    \n",
    "    \n",
    "    dnn1_scores.append(recall_score(y_test,yhat_dnn1))\n",
    "    dnn2_scores.append(recall_score(y_test,yhat_dnn2))"
   ]
  },
  {
   "cell_type": "markdown",
   "metadata": {},
   "source": [
    "We train two different deep network architectures and append the scores to a list to visualize later."
   ]
  },
  {
   "cell_type": "markdown",
   "metadata": {},
   "source": [
    "### [10 points] Compare the performance of your convolutional network to a standard multi-layer perceptron (MLP) using the receiver operating characteristic and area under the curve. "
   ]
  },
  {
   "cell_type": "code",
   "execution_count": 45,
   "metadata": {
    "collapsed": false
   },
   "outputs": [
    {
     "name": "stdout",
     "output_type": "stream",
     "text": [
      "CNN\n",
      "[[1987  514]\n",
      " [ 332 2167]] 0.8308\n",
      "MLP\n",
      "[[1445 1056]\n",
      " [ 988 1511]] 0.5912\n",
      "3456/5000 [===================>..........] - ETA: 0sCNN\n",
      "[[2051  454]\n",
      " [ 337 2158]] 0.8418\n",
      "MLP\n",
      "[[1438 1067]\n",
      " [ 966 1529]] 0.5934\n",
      "4928/5000 [============================>.] - ETA: 0sCNN\n",
      "[[1983  530]\n",
      " [ 315 2172]] 0.831\n",
      "MLP\n",
      "[[1415 1098]\n",
      " [ 992 1495]] 0.582\n",
      "3584/5000 [====================>.........] - ETA: 0sCNN\n",
      "[[1974  527]\n",
      " [ 352 2147]] 0.8242\n",
      "MLP\n",
      "[[1439 1062]\n",
      " [1005 1494]] 0.5866\n",
      "4768/5000 [===========================>..] - ETA: 0sCNN\n",
      "[[2023  492]\n",
      " [ 309 2176]] 0.8398\n",
      "MLP\n",
      "[[1395 1120]\n",
      " [ 946 1539]] 0.5868\n",
      "4928/5000 [============================>.] - ETA: 0sCPU times: user 11min 20s, sys: 46 s, total: 12min 6s\n",
      "Wall time: 2min 19s\n"
     ]
    }
   ],
   "source": [
    "%%time\n",
    "\n",
    "from numpy import interp\n",
    "from sklearn.metrics import roc_curve, auc\n",
    "df, X, y = wildcard_to_df('data/data/large/*.jpg')\n",
    "\n",
    "X = X.astype(np.float32)\n",
    "y = y.astype(np.int32)\n",
    "X = X/255\n",
    "\n",
    "mlp_roc_auc = []\n",
    "cnn_roc_auc = []\n",
    "\n",
    "mean_tpr_mlp = 0.0\n",
    "mean_fpr_mlp = np.linspace(0, 1, 100)\n",
    "mean_tpr_cnn = 0.0\n",
    "mean_fpr_cnn = np.linspace(0, 1, 100)\n",
    "\n",
    "n_splits = 5\n",
    "\n",
    "for i in range(0, n_splits):\n",
    "\n",
    "    X_train, X_test, y_train, y_test = train_test_split(X, y, test_size=0.2)\n",
    "    \n",
    "    X_train_mlp = copy.deepcopy(X_train)\n",
    "    X_test_mlp = copy.deepcopy(X_test)\n",
    "    \n",
    "    X_train = np.expand_dims(X_train.reshape((-1,w,h)), axis=3)\n",
    "    X_test = np.expand_dims(X_test.reshape((-1,w,h)), axis=3)\n",
    "\n",
    "    yhat_cnn = np.argmax(cnn.predict(X_test), axis=1)\n",
    "    yhat_mlp = np.argmax(mlp.predict(X_test_mlp), axis=1)\n",
    "            \n",
    "    print('CNN')\n",
    "    print(mt.confusion_matrix(y_test,yhat_cnn),\n",
    "         mt.accuracy_score(y_test,yhat_cnn))\n",
    "    \n",
    "    print('MLP')\n",
    "    print(mt.confusion_matrix(y_test,yhat_mlp),\n",
    "          mt.accuracy_score(y_test,yhat_mlp))\n",
    "    \n",
    "    probs_cnn = list(cnn.predict_proba(X_test))\n",
    "    probs_cnn = np.array(probs_cnn)[:,1]\n",
    "    fpr_cnn, tpr_cnn, _ = roc_curve(y_test, probs_cnn)\n",
    "    cnn_roc_auc.append((fpr_cnn, tpr_cnn, auc(fpr_cnn, tpr_cnn)))\n",
    "    mean_tpr_cnn += interp(mean_fpr_cnn, fpr_cnn, tpr_cnn)\n",
    "    mean_tpr_cnn[0] = 0.0   \n",
    "\n",
    "    probs_mlp = mlp.predict_proba(X_test_mlp)\n",
    "    probs_mlp = np.array(probs_mlp)[:,1]\n",
    "    fpr_mlp, tpr_mlp, _ = roc_curve(y_test, probs_mlp)\n",
    "    mlp_roc_auc.append((fpr_mlp, tpr_mlp, auc(fpr_mlp, tpr_mlp)))\n",
    "    mean_tpr_mlp  += interp(mean_fpr_mlp, fpr_mlp, tpr_mlp)\n",
    "    mean_tpr_mlp [0] = 0.0\n",
    "\n"
   ]
  },
  {
   "cell_type": "markdown",
   "metadata": {},
   "source": [
    "As we can see, our CNN performs far better than the MLP getting up to 84% accuracy which is very impressive.  "
   ]
  },
  {
   "cell_type": "code",
   "execution_count": 46,
   "metadata": {
    "collapsed": true
   },
   "outputs": [],
   "source": [
    "mean_tpr_mlp /= n_splits\n",
    "mean_tpr_mlp[-1] = 1.0\n",
    "mean_auc_mlp = auc(mean_fpr_mlp, mean_tpr_mlp)\n",
    "\n",
    "mean_tpr_cnn /= n_splits\n",
    "mean_tpr_cnn[-1] = 1.0\n",
    "mean_auc_cnn = auc(mean_fpr_cnn, mean_tpr_cnn)"
   ]
  },
  {
   "cell_type": "code",
   "execution_count": 47,
   "metadata": {
    "collapsed": false
   },
   "outputs": [
    {
     "data": {
      "image/png": "[encoded data removed]",
      "text/plain": [
       "<matplotlib.figure.Figure at 0x7f8bd4ae29e8>"
      ]
     },
     "metadata": {},
     "output_type": "display_data"
    }
   ],
   "source": [
    "import matplotlib.pyplot as plt\n",
    "\n",
    "plt.figure()\n",
    "lw = 2\n",
    "i = 0\n",
    "for fpr, tpr, auc_ in cnn_roc_auc:\n",
    "        plt.plot(fpr, tpr, color='darkorange',\n",
    "             lw=lw, label='ROC curve # %d (CNN) (area = %0.2f)' % (i, auc_))\n",
    "        i += 1\n",
    "for fpr, tpr, auc_ in mlp_roc_auc:\n",
    "        plt.plot(fpr, tpr, color='green',\n",
    "             lw=lw, label='ROC curve # %d (MLP) (area = %0.2f)' % (i, auc_))\n",
    "        i += 1        \n",
    "        \n",
    "plt.plot(mean_fpr_mlp, mean_tpr_mlp, 'k--', label='mean ROC (MLP) (area = %0.2f)' % mean_auc_mlp, lw=2)\n",
    "plt.plot(mean_fpr_cnn, mean_tpr_cnn, 'k-', label='mean ROC (CNN) (area = %0.2f)' % mean_auc_cnn, lw=2)\n",
    "\n",
    "plt.plot([0, 1], [0, 1], color='navy', lw=lw, linestyle='--')\n",
    "plt.xlim([0.0, 1.0])\n",
    "plt.ylim([0.0, 1.05])\n",
    "plt.xlabel('False Positive Rate')\n",
    "plt.ylabel('True Positive Rate')\n",
    "plt.title('Receiver operating characteristic example')\n",
    "plt.legend(loc=\"lower right\")\n",
    "plt.show()"
   ]
  },
  {
   "cell_type": "markdown",
   "metadata": {},
   "source": [
    "## Exceptional Work (10 points total)"
   ]
  },
  {
   "cell_type": "markdown",
   "metadata": {},
   "source": [
    "We visualized the convolution kernels learned by the network.  To get to the kernel, we did a little bit of digging through the internels of the keras sequential object.  "
   ]
  },
  {
   "cell_type": "code",
   "execution_count": 3,
   "metadata": {
    "collapsed": true
   },
   "outputs": [],
   "source": [
    "def show_attributes(obj):\n",
    "    print('\\n'.join(\"%s: %s\" % item for item in vars(obj).items()))"
   ]
  },
  {
   "cell_type": "markdown",
   "metadata": {},
   "source": [
    "This function displays all of the attributes of an object."
   ]
  },
  {
   "cell_type": "code",
   "execution_count": 1,
   "metadata": {
    "collapsed": false
   },
   "outputs": [
    {
     "name": "stderr",
     "output_type": "stream",
     "text": [
      "Using TensorFlow backend.\n"
     ]
    },
    {
     "data": {
      "text/plain": [
       "<keras.models.Sequential at 0x12027c278>"
      ]
     },
     "execution_count": 1,
     "metadata": {},
     "output_type": "execute_result"
    }
   ],
   "source": [
    "import h5py\n",
    "import sklearn.metrics as mt\n",
    "from keras.models import load_model\n",
    "import tensorflow as tf\n",
    "sess = tf.InteractiveSession()\n",
    "with sess.as_default():\n",
    "    cnn = load_model('cnn_81.h5')\n",
    "cnn"
   ]
  },
  {
   "cell_type": "markdown",
   "metadata": {},
   "source": [
    "We have to load the cnn using an interactive session in order to preserve the state of the variables learned in the network."
   ]
  },
  {
   "cell_type": "code",
   "execution_count": 4,
   "metadata": {
    "collapsed": false,
    "scrolled": false
   },
   "outputs": [
    {
     "name": "stdout",
     "output_type": "stream",
     "text": [
      "output_names: ['dense_2']\n",
      "_output_mask_cache: {'4834445912_4551135832': None}\n",
      "loss_weights: None\n",
      "input_layers_node_indices: [0]\n",
      "metrics_names: ['loss', 'acc']\n",
      "output_layers_tensor_indices: [0]\n",
      "outbound_nodes: []\n",
      "_output_shape_cache: {}\n",
      "output_layers: [<keras.layers.core.Dense object at 0x120381c50>]\n",
      "_trainable: True\n",
      "_feed_inputs: [<tf.Tensor 'conv2d_1_input:0' shape=(?, 50, 50, 1) dtype=float32>]\n",
      "_initial_weights: None\n",
      "sample_weight_mode: None\n",
      "container_nodes: {'dropout_2_ib-0', 'dropout_1_ib-0', 'dense_1_ib-0', 'conv2d_2_ib-0', 'conv2d_1_input_ib-0', 'conv2d_1_ib-0', 'max_pooling2d_2_ib-0', 'dense_2_ib-0', 'max_pooling2d_1_ib-0', 'flatten_1_ib-0'}\n",
      "input_layers_tensor_indices: [0]\n",
      "_output_tensor_cache: {}\n",
      "model: <keras.engine.training.Model object at 0x11112f6a0>\n",
      "metrics: ['accuracy']\n",
      "outputs: [<tf.Tensor 'dense_2/Softmax:0' shape=(?, 2) dtype=float32>]\n",
      "optimizer: <keras.optimizers.Adam object at 0x1203f2b70>\n",
      "output_layers_node_indices: [0]\n",
      "inputs: [<tf.Tensor 'conv2d_1_input:0' shape=(?, 50, 50, 1) dtype=float32>]\n",
      "supports_masking: False\n",
      "_feed_input_names: ['conv2d_1_input']\n",
      "name: sequential_1\n",
      "nodes_by_depth: {0: [<keras.engine.topology.Node object at 0x1203b6710>], 1: [<keras.engine.topology.Node object at 0x120395e48>], 2: [<keras.engine.topology.Node object at 0x120381860>], 3: [<keras.engine.topology.Node object at 0x120374908>], 4: [<keras.engine.topology.Node object at 0x1201f3a58>], 5: [<keras.engine.topology.Node object at 0x12023fd30>], 6: [<keras.engine.topology.Node object at 0x120250710>], 7: [<keras.engine.topology.Node object at 0x12027c9e8>], 8: [<keras.engine.topology.Node object at 0x120223fd0>], 9: [<keras.engine.topology.Node object at 0x11060a9b0>]}\n",
      "loss: binary_crossentropy\n",
      "layers: [<keras.layers.convolutional.Conv2D object at 0x12027c2e8>, <keras.layers.pooling.MaxPooling2D object at 0x120223a20>, <keras.layers.convolutional.Conv2D object at 0x12027c860>, <keras.layers.pooling.MaxPooling2D object at 0x120249160>, <keras.layers.core.Dropout object at 0x12023f8d0>, <keras.layers.core.Flatten object at 0x12023f198>, <keras.layers.core.Dense object at 0x12023fda0>, <keras.layers.core.Dropout object at 0x120381898>, <keras.layers.core.Dense object at 0x120381c50>]\n",
      "metrics_tensors: [<tf.Tensor 'Mean_5:0' shape=() dtype=float32>]\n",
      "input_names: ['conv2d_1_input']\n",
      "built: True\n",
      "input_layers: [<keras.engine.topology.InputLayer object at 0x12027c470>]\n",
      "inbound_nodes: [<keras.engine.topology.Node object at 0x11e8166a0>]\n"
     ]
    }
   ],
   "source": [
    "show_attributes(cnn)"
   ]
  },
  {
   "cell_type": "markdown",
   "metadata": {},
   "source": [
    "We notice that we can access layers through the layers attribute.  I take the first layer as it is a convolutional layer so we will be able to grab the filters."
   ]
  },
  {
   "cell_type": "code",
   "execution_count": 5,
   "metadata": {
    "collapsed": true
   },
   "outputs": [],
   "source": [
    "conv_first = cnn.layers[0]"
   ]
  },
  {
   "cell_type": "code",
   "execution_count": 6,
   "metadata": {
    "collapsed": false
   },
   "outputs": [
    {
     "name": "stdout",
     "output_type": "stream",
     "text": [
      "losses: [<tf.Tensor 'conv2d_1/add:0' shape=() dtype=float32>]\n",
      "trainable: True\n",
      "bias: Tensor(\"conv2d_1/bias/read:0\", shape=(32,), dtype=float32)\n",
      "bias_constraint: None\n",
      "kernel_constraint: None\n",
      "use_bias: True\n",
      "activation: <function relu at 0x11fad9730>\n",
      "kernel_initializer: <keras.initializers.VarianceScaling object at 0x12027c358>\n",
      "dtype: float32\n",
      "_non_trainable_weights: []\n",
      "dilation_rate: (1, 1)\n",
      "kernel: Tensor(\"conv2d_1/kernel/read:0\", shape=(3, 3, 1, 32), dtype=float32)\n",
      "data_format: channels_last\n",
      "_trainable_weights: [<tensorflow.python.ops.variables.Variable object at 0x12027c7b8>, <tensorflow.python.ops.variables.Variable object at 0x12028ce10>]\n",
      "input_spec: <keras.engine.topology.InputSpec object at 0x12021f940>\n",
      "_per_input_losses: {None: [<tf.Tensor 'conv2d_1/add:0' shape=() dtype=float32>]}\n",
      "name: conv2d_1\n",
      "padding: same\n",
      "_initial_weights: None\n",
      "bias_regularizer: None\n",
      "kernel_size: (3, 3)\n",
      "_constraints: {}\n",
      "supports_masking: False\n",
      "rank: 2\n",
      "batch_input_shape: (None, 50, 50, 1)\n",
      "activity_regularizer: None\n",
      "strides: (1, 1)\n",
      "outbound_nodes: [<keras.engine.topology.Node object at 0x12027c9e8>]\n",
      "bias_initializer: <keras.initializers.Zeros object at 0x12027c400>\n",
      "inbound_nodes: [<keras.engine.topology.Node object at 0x120223fd0>]\n",
      "built: True\n",
      "kernel_regularizer: <keras.regularizers.L1L2 object at 0x12027c438>\n",
      "filters: 32\n"
     ]
    }
   ],
   "source": [
    "show_attributes(conv_first)"
   ]
  },
  {
   "cell_type": "code",
   "execution_count": 7,
   "metadata": {
    "collapsed": false
   },
   "outputs": [
    {
     "data": {
      "text/plain": [
       "[<tensorflow.python.ops.variables.Variable at 0x12027c7b8>,\n",
       " <tensorflow.python.ops.variables.Variable at 0x12028ce10>]"
      ]
     },
     "execution_count": 7,
     "metadata": {},
     "output_type": "execute_result"
    }
   ],
   "source": [
    "trainable_weights = conv_first._trainable_weights\n",
    "trainable_weights"
   ]
  },
  {
   "cell_type": "markdown",
   "metadata": {},
   "source": [
    "I notice that there are trainable weights which are of type tf.Variable, but these are not the correct dimensions for the convolutional filters so we keep searching."
   ]
  },
  {
   "cell_type": "code",
   "execution_count": 8,
   "metadata": {
    "collapsed": true,
    "scrolled": false
   },
   "outputs": [],
   "source": [
    "import numpy as np\n",
    "import tensorflow as tf\n",
    "weights = cnn.layers[0].kernel.eval()\n",
    "weights = np.array(weights)"
   ]
  },
  {
   "cell_type": "markdown",
   "metadata": {},
   "source": [
    "The kernel attribute is the correct dimension and can be accesses due to the interactive session we established earlier."
   ]
  },
  {
   "cell_type": "code",
   "execution_count": 9,
   "metadata": {
    "collapsed": false,
    "scrolled": true
   },
   "outputs": [
    {
     "data": {
      "text/plain": [
       "(3, 3, 1, 32)"
      ]
     },
     "execution_count": 9,
     "metadata": {},
     "output_type": "execute_result"
    }
   ],
   "source": [
    "weights.shape"
   ]
  },
  {
   "cell_type": "markdown",
   "metadata": {},
   "source": [
    "As we can see, we have 32 3x3 filters."
   ]
  },
  {
   "cell_type": "code",
   "execution_count": 12,
   "metadata": {
    "collapsed": false,
    "scrolled": false
   },
   "outputs": [
    {
     "data": {
      "image/png": "[encoded data removed]",
      "text/plain": [
       "<matplotlib.figure.Figure at 0x1282e07b8>"
      ]
     },
     "metadata": {},
     "output_type": "display_data"
    }
   ],
   "source": [
    "%matplotlib inline\n",
    "weights = weights.squeeze()\n",
    "# get into friendly format\n",
    "plt.figure()\n",
    "plt.subplots_adjust(bottom=0, left=.01, right=.99, top=.90, hspace=.35)\n",
    "\n",
    "for z,i in zip(np.transpose(weights),range(32)):\n",
    "    plt.subplot(4, 8, i + 1)\n",
    "    plt.imshow(z.reshape((3,3)), cmap=plt.cm.gray,interpolation='none')\n",
    "    plt.xticks(())\n",
    "    plt.yticks(())\n",
    "plt.show()"
   ]
  },
  {
   "cell_type": "markdown",
   "metadata": {
    "collapsed": true
   },
   "source": [
    "All of these filters show up pretty differently which is fascinating.  These are the 32 filters that our convolutional neural network trained on the AWS GPU cluster learned."
   ]
  }
 ],
 "metadata": {
  "anaconda-cloud": {},
  "kernelspec": {
   "display_name": "Python [default]",
   "language": "python",
   "name": "python3"
  },
  "language_info": {
   "codemirror_mode": {
    "name": "ipython",
    "version": 3
   },
   "file_extension": ".py",
   "mimetype": "text/x-python",
   "name": "python",
   "nbconvert_exporter": "python",
   "pygments_lexer": "ipython3",
   "version": "3.5.3"
  },
  "name": "_merged"
 },
 "nbformat": 4,
 "nbformat_minor": 2
}
