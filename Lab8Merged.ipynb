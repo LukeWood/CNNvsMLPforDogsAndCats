{
 "cells": [
  {
   "cell_type": "markdown",
   "metadata": {
    "collapsed": true
   },
   "source": [
    "# It's Raining Cats and Dogs!\n",
    "   \n",
    "##  Lab Assignment Eight: The Storm Continues\n",
    "   \n",
    "### Justin Ledford, Luke Wood, Traian Pop"
   ]
  },
  {
   "cell_type": "markdown",
   "metadata": {
    "collapsed": true
   },
   "source": [
    "## Business Understanding\n",
    "\n",
    "### Overview\n",
    "   \n",
    "The data set we are analyzing has over 25000 evenly distributed pictures of dogs and cats. We found it on https://www.kaggle.com/c/dogs-vs-cats and decided it would be a good set to practice processing and analyzing image data due to the clear classification metric of dogs|cats and the large number of high quality photos.\n",
    " \n",
    "### Purpose \n",
    "   \n",
    "This data was originally collected for the purpose of a competition hosted by Kaggle to see who could create the most accurate algorithm that could distinguish between pictures of dogs and cats. Petfined.com are the original owners of the data, and they donated over 3 million pictures of sheltered animals that have been hand classified by them. Because of this, we are highly confident in the data, as the vast majority of humans can successfully identify between a dog and a cat. \n",
    "   \n",
    "The competition itself is long over, but the page still remains for people to play and experiment with the data. This data is important due to potential it holds to help develop and train algorithms that could be used to evolve image recognition software. We can progressively check how useful the data we get from the set is by comparing it against our own classification and seeing if our own conclusions (i.e. if an image classifies a cat or not) match with the information we collect from it. \n",
    "\n",
    "### Predictions\n",
    "   \n",
    "We are not expecting perfect results as cats and dogs can look fairly similar at times, and the black and white color format of the pictures already limits easily differential characteristics between the two animals, such as fur color. However, we do believe that due to the large number and quality of the pictures, we can definitely expect to get a large amount of successful results when processing and analyzing the data.\n",
    "\n",
    "### Applications\n",
    "This dataset could be used to train an image classifier that could be used by hotels or apartment that only allow one type of pet.  For example, Luke's apartment complex only allows cats to stay in the homes so the complex could theoretically place cameras in the hallway and test to see which type of pets are being brought in.  This would allow them to more efficiently enforce the no dogs rule which is frequently broken.  \n",
    "\n",
    "Another application is it could also be used for cataloging by a pet shelter to allow owners to search for cats or dogs similar to one they are looking for.\n",
    "\n",
    "A third application would be to track the history of animals by taking pictures of them at each shelter and documenting information about the animal at each stage."
   ]
  },
  {
   "cell_type": "markdown",
   "metadata": {},
   "source": [
    "## Data Preparation (40 Points Total)"
   ]
  },
  {
   "cell_type": "markdown",
   "metadata": {},
   "source": [
    "In this section, we pre-process the data in order to be usable by our techniques. The first method represents how we take all the images in a given folder (after they have been modified by our own scripts) and append them together to be analyzed later.\n",
    "   \n",
    "In pre-processing the data, we used three separate scripts:\n",
    "   \n",
    "<B>1) aspect</B>: Script developed by Fred Weinhaus (http://www.fmwconcepts.com/imagemagick/aspect/index.php) in order to resize an image to a specific size using imagmagick (https://www.imagemagick.org/) allowing either cropping or padding to deal with the aspect ratio change. (Not shown due to length)\n",
    "   \n",
    "<B>2) process.sh</B>: Script that shrinks images to 150 x 150 while simultaneously using aspect to ensure accuracy. Uses padding to fill space leftover. Leaves all original content there, but adds noise to the edges to fill blanks.\n",
    "   \n",
    "<B>3) crop_process.sh</B>: Script that shrinks images to 150 x 150 while simultaneously using aspect to ensure accuracy. Instead of padding, it simply crops the image in respective to the middle of the original image. Loses quality and detail but no additional noise is added.\n",
    "   \n",
    "Afterward we preprocess the images with aspect and one of the following scripts, we append them all together in one dataframe."
   ]
  },
  {
   "cell_type": "markdown",
   "metadata": {},
   "source": [
    "### Importing the Data"
   ]
  },
  {
   "cell_type": "code",
   "execution_count": 1,
   "metadata": {
    "collapsed": true
   },
   "outputs": [],
   "source": [
    "import numpy as np\n",
    "from PIL import Image\n",
    "import pandas as pd\n",
    "import os\n",
    "import glob\n",
    "import plotly\n",
    "import matplotlib.pyplot as plt\n",
    "%matplotlib inline \n",
    "\n",
    "#ignore warnings\n",
    "import warnings\n",
    "warnings.simplefilter('ignore', DeprecationWarning)\n",
    "warnings.simplefilter('ignore', FutureWarning)\n",
    "\n",
    "def warn(*args, **kwargs):\n",
    "    pass\n",
    "warnings.warn = warn\n",
    "\n",
    "w,h = 50,50\n",
    "\n",
    "def wildcard_to_df(fpath, greyscale=True):\n",
    "    X = []\n",
    "    y = []\n",
    "    \n",
    "    for img_file in glob.iglob(fpath):\n",
    "        # Read in img as greyscale\n",
    "        with Image.open(img_file).convert(\"L\") as img:\n",
    "\n",
    "            # Keep y for each image in separate array\n",
    "            if 'cat' in img_file:\n",
    "                y.append(0)\n",
    "            else:\n",
    "                y.append(1)\n",
    "\n",
    "            # Concatenate RGB into one row and collect\n",
    "            X.append(np.concatenate(np.array(img)))\n",
    "\n",
    "    X = np.array(X)\n",
    "    y = np.array(y)\n",
    "\n",
    "    #convert to DF\n",
    "    return pd.DataFrame(data=X, index=y), X, y"
   ]
  },
  {
   "cell_type": "code",
   "execution_count": 16,
   "metadata": {
    "collapsed": true
   },
   "outputs": [],
   "source": [
    "#convert to dataframe\n",
    "df, X, y = wildcard_to_df('data/data/small/*.jpg')"
   ]
  },
  {
   "cell_type": "code",
   "execution_count": 3,
   "metadata": {},
   "outputs": [
    {
     "data": {
      "image/png": "[encoded data removed]",
      "text/plain": [
       "<matplotlib.figure.Figure at 0x7f4fbf5ae4a8>"
      ]
     },
     "metadata": {},
     "output_type": "display_data"
    }
   ],
   "source": [
    "# a helper plotting function (modified code from Professor Eric Larson's repository)\n",
    "def plot_gallery(images, h, w, n_row=3, n_col=6):\n",
    "    \"\"\"Helper function to plot a gallery of portraits\"\"\"\n",
    "    plt.figure(figsize=(1.7 * n_col, 2.3 * n_row))\n",
    "    plt.subplots_adjust(bottom=0, left=.01, right=.99, top=.90, hspace=.35)\n",
    "    for i in range(n_row * n_col):\n",
    "        plt.subplot(n_row, n_col, i + 1)\n",
    "        plt.imshow(images[i].reshape((h, w)), cmap=plt.cm.gray)\n",
    "        plt.xticks(())\n",
    "        plt.yticks(())\n",
    "\n",
    "w,h = (50,50)\n",
    "plot_gallery(X, h, w) # defaults to showing a 3 by 6 subset of the faces\n",
    "# Visualize some images\n",
    "plt.show()"
   ]
  },
  {
   "cell_type": "markdown",
   "metadata": {},
   "source": [
    "Sample of random images taken from our dataset."
   ]
  },
  {
   "cell_type": "markdown",
   "metadata": {},
   "source": [
    "### Metrics of Evaluation"
   ]
  },
  {
   "cell_type": "markdown",
   "metadata": {},
   "source": [
    "For our data set, we decided that just accuracy would be the best way to measure success due to the nature of the dataset. We are not interested in false positives or negatives, just simply at the classification success of seeing if it is a dog or a cat due to the purpose of our application."
   ]
  },
  {
   "cell_type": "markdown",
   "metadata": {},
   "source": [
    "### Splitting the Data"
   ]
  },
  {
   "cell_type": "code",
   "execution_count": 4,
   "metadata": {},
   "outputs": [
    {
     "name": "stderr",
     "output_type": "stream",
     "text": [
      "Using TensorFlow backend.\n"
     ]
    }
   ],
   "source": [
    "import keras\n",
    "from keras.models import Sequential\n",
    "from keras.layers import Reshape\n",
    "from keras.layers import Dense, Dropout, Activation, Flatten\n",
    "from keras.layers import Conv2D, MaxPooling2D\n",
    "import sklearn.metrics as mt"
   ]
  },
  {
   "cell_type": "code",
   "execution_count": 17,
   "metadata": {},
   "outputs": [
    {
     "data": {
      "text/plain": [
       "(1600, 2500)"
      ]
     },
     "execution_count": 17,
     "metadata": {},
     "output_type": "execute_result"
    }
   ],
   "source": [
    "from sklearn.model_selection import train_test_split\n",
    "\n",
    "NUM_CLASSES = 2\n",
    "X = X.astype(np.float32)\n",
    "y = y.astype(np.int32)\n",
    "X = X/255\n",
    "X_train, X_test, y_train, y_test = train_test_split(X, y, test_size=0.2)\n",
    "y_train_ohe = keras.utils.to_categorical(y_train, NUM_CLASSES)\n",
    "y_test_ohe = keras.utils.to_categorical(y_test, NUM_CLASSES)\n",
    "\n",
    "X_train.shape"
   ]
  },
  {
   "cell_type": "markdown",
   "metadata": {},
   "source": [
    "We used just a simple shuffle split for our data due to the large dataset. In addition, our dataset was provided with a separate test directory with 500 images in order to valdiate our data, so the need for an optimal split was not as necessary."
   ]
  },
  {
   "cell_type": "markdown",
   "metadata": {},
   "source": [
    "## Modeling "
   ]
  },
  {
   "cell_type": "markdown",
   "metadata": {},
   "source": [
    "### Creating the Network"
   ]
  },
  {
   "cell_type": "markdown",
   "metadata": {},
   "source": [
    "In this section, we start creating both our network and the MLP that we will use as a relative measure of performance."
   ]
  },
  {
   "cell_type": "code",
   "execution_count": 6,
   "metadata": {},
   "outputs": [
    {
     "name": "stdout",
     "output_type": "stream",
     "text": [
      "CPU times: user 31.7 s, sys: 7.67 s, total: 39.4 s\n",
      "Wall time: 17.4 s\n"
     ]
    }
   ],
   "source": [
    "%%time\n",
    "# make a 3 layer keras MLP\n",
    "mlp = Sequential()\n",
    "mlp.add( Dense(input_dim=X_train.shape[1], units=30, activation='relu') )\n",
    "mlp.add( Dense(units=15, activation='relu') )\n",
    "mlp.add( Dense(NUM_CLASSES) )\n",
    "mlp.add( Activation('softmax') )\n",
    "\n",
    "mlp.compile(loss='mean_squared_error',\n",
    "              optimizer='rmsprop',\n",
    "              metrics=['accuracy'])\n",
    "\n",
    "mlp.fit(X_train, y_train_ohe, \n",
    "        batch_size=32, epochs=150, \n",
    "        shuffle=True, verbose=0)"
   ]
  },
  {
   "cell_type": "code",
   "execution_count": 7,
   "metadata": {},
   "outputs": [
    {
     "name": "stdout",
     "output_type": "stream",
     "text": [
      "[[ 88  99]\n",
      " [ 82 131]]\n",
      "0.5475\n"
     ]
    }
   ],
   "source": [
    "yhat_mlp = np.argmax(mlp.predict(X_test), axis=1)\n",
    "acc_mlp = mt.accuracy_score(y_test,yhat_mlp)\n",
    "cm = mt.confusion_matrix(y_test,yhat_mlp)\n",
    "print(cm)\n",
    "print(acc_mlp)"
   ]
  },
  {
   "cell_type": "markdown",
   "metadata": {},
   "source": [
    "The MLP gets 55% accuracy which is pretty decent considering the complexity of the problem."
   ]
  },
  {
   "cell_type": "code",
   "execution_count": 8,
   "metadata": {},
   "outputs": [
    {
     "name": "stdout",
     "output_type": "stream",
     "text": [
      "CPU times: user 1min 32s, sys: 18.1 s, total: 1min 50s\n",
      "Wall time: 37.3 s\n"
     ]
    }
   ],
   "source": [
    "%%time\n",
    "\n",
    "# make a CNN with conv layer and max pooling\n",
    "cnn = Sequential()\n",
    "cnn.add(Reshape((1,50,50), input_shape=(1,2500)))\n",
    "cnn.add(Conv2D(filters=16, kernel_size= (2, 2), padding='same', input_shape=(1,50,50)))\n",
    "cnn.add(Activation('relu'))\n",
    "cnn.add(MaxPooling2D(pool_size=(2, 2), data_format=\"channels_first\"))\n",
    "# add one layer on flattened output\n",
    "cnn.add(Flatten())\n",
    "cnn.add(Dense(NUM_CLASSES))\n",
    "cnn.add(Activation('softmax'))\n",
    "\n",
    "# Let's train the model \n",
    "cnn.compile(loss='mean_squared_error',\n",
    "              optimizer='rmsprop',\n",
    "              metrics=['accuracy'])\n",
    "\n",
    "# we need to exapnd the dimensions here to give the \n",
    "#   \"channels\" dimension expected by Keras\n",
    "cnn.fit(np.expand_dims(X_train, axis=1), y_train_ohe, \n",
    "        batch_size=32, epochs=150, \n",
    "        shuffle=True, verbose=0)"
   ]
  },
  {
   "cell_type": "code",
   "execution_count": 9,
   "metadata": {},
   "outputs": [
    {
     "name": "stdout",
     "output_type": "stream",
     "text": [
      "[[102  85]\n",
      " [ 79 134]]\n"
     ]
    }
   ],
   "source": [
    "import sklearn.metrics as mt\n",
    "\n",
    "yhat_cnn = np.argmax(cnn.predict(np.expand_dims(X_test, axis=1)), axis=1)\n",
    "acc_cnn = mt.accuracy_score(y_test,yhat_cnn)\n",
    "cm = mt.confusion_matrix(y_test,yhat_cnn)\n",
    "print(cm)"
   ]
  },
  {
   "cell_type": "code",
   "execution_count": 10,
   "metadata": {},
   "outputs": [
    {
     "data": {
      "text/plain": [
       "0.58999999999999997"
      ]
     },
     "execution_count": 10,
     "metadata": {},
     "output_type": "execute_result"
    }
   ],
   "source": [
    "acc_cnn"
   ]
  },
  {
   "cell_type": "markdown",
   "metadata": {},
   "source": [
    "Our initial performance of 59% is not very ideal, so it might be more beneficial to change our architecture a bit. It is important to note that our initial CNN architecture performed worse than a standard MLP which is pretty bad seeing as Convolutional Neural Networks are designed specifically to analyze images."
   ]
  },
  {
   "cell_type": "code",
   "execution_count": 18,
   "metadata": {},
   "outputs": [
    {
     "data": {
      "text/plain": [
       "<keras.callbacks.History at 0x7f4fdd1ad198>"
      ]
     },
     "execution_count": 18,
     "metadata": {},
     "output_type": "execute_result"
    }
   ],
   "source": [
    "#architecture #2\n",
    "# make a CNN with conv layer and max pooling\n",
    "cnn2 = Sequential()\n",
    "cnn2.add(Reshape((1,50,50), input_shape=(1,2500)))\n",
    "cnn2.add(Conv2D(filters=16, kernel_size= (2, 2), padding='same', input_shape=(1,50,50)))\n",
    "cnn2.add(Activation('relu'))\n",
    "cnn2.add(MaxPooling2D(pool_size=(2, 2), data_format=\"channels_first\"))\n",
    "\n",
    "cnn2.add(Conv2D(filters=16, kernel_size= (2, 2), padding='same', input_shape=(1,25,25)))\n",
    "cnn2.add(Activation('relu'))\n",
    "cnn2.add(MaxPooling2D(pool_size=(2, 2), data_format=\"channels_first\"))\n",
    "\n",
    "# add one layer on flattened output\n",
    "cnn2.add(Flatten())\n",
    "cnn2.add(Dense(NUM_CLASSES))\n",
    "cnn2.add(Activation('softmax'))\n",
    "\n",
    "# Let's train the model \n",
    "cnn2.compile(loss='mean_squared_error',\n",
    "              optimizer='rmsprop',\n",
    "              metrics=['accuracy'])\n",
    "\n",
    "# we need to exapnd the dimensions here to give the \n",
    "#   \"channels\" dimension expected by Keras\n",
    "cnn2.fit(np.expand_dims(X_train, axis=1), y_train_ohe, \n",
    "        batch_size=32, epochs=150, \n",
    "        shuffle=True, verbose=0)"
   ]
  },
  {
   "cell_type": "code",
   "execution_count": 75,
   "metadata": {},
   "outputs": [
    {
     "name": "stdout",
     "output_type": "stream",
     "text": [
      "[[123  75]\n",
      " [ 88 114]]\n",
      "0.5925\n"
     ]
    }
   ],
   "source": [
    "import sklearn.metrics as mt\n",
    "\n",
    "yhat_cnn = np.argmax(cnn2.predict(np.expand_dims(X_test, axis=1)), axis=1)\n",
    "acc_cnn = mt.accuracy_score(y_test,yhat_cnn)\n",
    "cm = mt.confusion_matrix(y_test,yhat_cnn)\n",
    "print(cm)\n",
    "print(acc_cnn)"
   ]
  },
  {
   "cell_type": "markdown",
   "metadata": {},
   "source": [
    "Our performance improvement from changing the architecture and adding an extra convolution brought it up to 59.75% accuracy. This is still worse than the MLP but is better than our last architecture. We decided that possibly by using more data we could improve our CNNs performance."
   ]
  },
  {
   "cell_type": "markdown",
   "metadata": {},
   "source": [
    "### Data Addition and Generation"
   ]
  },
  {
   "cell_type": "markdown",
   "metadata": {},
   "source": [
    "First, we load an additional 22,000 images into the dataset. "
   ]
  },
  {
   "cell_type": "code",
   "execution_count": 13,
   "metadata": {},
   "outputs": [
    {
     "data": {
      "text/plain": [
       "(20000, 50, 50, 1)"
      ]
     },
     "execution_count": 13,
     "metadata": {},
     "output_type": "execute_result"
    }
   ],
   "source": [
    "import copy\n",
    "df, X, y = wildcard_to_df('data/data/large/*.jpg')\n",
    "\n",
    "NUM_CLASSES = 2\n",
    "X = X.astype(np.float32)\n",
    "y = y.astype(np.int32)\n",
    "X = X/255\n",
    "\n",
    "X_train, X_test, y_train, y_test = train_test_split(X, y, test_size=0.2)\n",
    "\n",
    "y_train_ohe = keras.utils.to_categorical(y_train, NUM_CLASSES)\n",
    "y_test_ohe = keras.utils.to_categorical(y_test, NUM_CLASSES)\n",
    "\n",
    "X_train_mlp = copy.deepcopy(X_train)\n",
    "X_test_mlp = copy.deepcopy(X_test)\n",
    "\n",
    "X_train = np.expand_dims(X_train.reshape((-1,w,h)), axis=3)\n",
    "X_test = np.expand_dims(X_test.reshape((-1,w,h)), axis=3)\n",
    "\n",
    "X_train.shape\n"
   ]
  },
  {
   "cell_type": "code",
   "execution_count": 65,
   "metadata": {},
   "outputs": [
    {
     "name": "stdout",
     "output_type": "stream",
     "text": [
      "CPU times: user 6min 46s, sys: 1min 6s, total: 7min 53s\n",
      "Wall time: 3min 26s\n"
     ]
    }
   ],
   "source": [
    "%%time\n",
    "\n",
    "mlp = Sequential()\n",
    "mlp.add( Dense(input_dim=X_train_mlp.shape[1], units=30, activation='relu') )\n",
    "mlp.add( Dense(units=15, activation='relu') )\n",
    "mlp.add( Dense(NUM_CLASSES) )\n",
    "mlp.add( Activation('softmax') )\n",
    "\n",
    "mlp.compile(loss='mean_squared_error',\n",
    "              optimizer='rmsprop',\n",
    "              metrics=['accuracy'])\n",
    "\n",
    "mlp.fit(X_train_mlp, y_train_ohe, \n",
    "        batch_size=32, epochs=150, \n",
    "        shuffle=True, verbose=0)"
   ]
  },
  {
   "cell_type": "code",
   "execution_count": 66,
   "metadata": {},
   "outputs": [
    {
     "name": "stdout",
     "output_type": "stream",
     "text": [
      "[[2325  122]\n",
      " [2440  113]]\n",
      "0.4876\n"
     ]
    }
   ],
   "source": [
    "import sklearn.metrics as mt\n",
    "\n",
    "yhat_mlp = np.argmax(mlp.predict(X_test_mlp), axis=1)\n",
    "acc_mlp = mt.accuracy_score(y_test,yhat_mlp)\n",
    "cm = mt.confusion_matrix(y_test,yhat_mlp)\n",
    "print(cm)\n",
    "print(acc_mlp)"
   ]
  },
  {
   "cell_type": "markdown",
   "metadata": {},
   "source": [
    "We created an MLP with three layers and ended up getting 58% accuracy. This is pretty mediocre still but is not that far off from what we got before."
   ]
  },
  {
   "cell_type": "code",
   "execution_count": 37,
   "metadata": {
    "collapsed": true
   },
   "outputs": [],
   "source": [
    "# Generate more traning data by transforming training data\n",
    "\n",
    "from keras.preprocessing.image import ImageDataGenerator\n",
    "\n",
    "\n",
    "datagen = ImageDataGenerator(featurewise_center=False,\n",
    "    samplewise_center=False,\n",
    "    featurewise_std_normalization=False,\n",
    "    samplewise_std_normalization=False,\n",
    "    zca_whitening=False,\n",
    "    rotation_range=5, # used, Int. Degree range for random rotations.\n",
    "    width_shift_range=0.1, # used, Float (fraction of total width). Range for random horizontal shifts.\n",
    "    height_shift_range=0.1, # used,  Float (fraction of total height). Range for random vertical shifts.\n",
    "    shear_range=0., # Float. Shear Intensity (Shear angle in counter-clockwise direction as radians)\n",
    "    zoom_range=0.,\n",
    "    channel_shift_range=0.,\n",
    "    fill_mode='nearest',\n",
    "    cval=0.,\n",
    "    horizontal_flip=False,\n",
    "    vertical_flip=False,\n",
    "    rescale=None)\n",
    "\n",
    "datagen.fit(X_train)"
   ]
  },
  {
   "cell_type": "markdown",
   "metadata": {},
   "source": [
    "Below is the CNN we trained on an AWS GPU instance with all the new data. It took about 20 minutes to train and got to approximately 83% on validation accuracy.\n",
    "\n",
    "```python\n",
    "from keras.regularizers import l2 \n",
    "l2_lambda = 0.0001\n",
    "\n",
    "# make a CNN with conv layer and max pooling\n",
    "cnn = Sequential()\n",
    "\n",
    "cnn.add(Conv2D(filters=32, input_shape=(w, h, 1),\n",
    "                kernel_size=3, kernel_initializer='he_uniform',\n",
    "                kernel_regularizer=l2(l2_lambda), padding='same', activation='relu'))\n",
    "cnn.add(MaxPooling2D(pool_size=2, data_format=\"channels_first\"))\n",
    "\n",
    "cnn.add(Conv2D(filters=64, kernel_size=3, kernel_initializer='he_uniform',\n",
    "                kernel_regularizer=l2(l2_lambda), padding='same', activation='relu'))\n",
    "cnn.add(MaxPooling2D(pool_size=2, data_format=\"channels_first\"))\n",
    "\n",
    "\n",
    "# add one layer on flattened output\n",
    "cnn.add(Dropout(0.25)) # add some dropout for regularization after conv layers\n",
    "cnn.add(Flatten())\n",
    "cnn.add(Dense(128, \n",
    "              activation='relu',\n",
    "              kernel_initializer='he_uniform',\n",
    "              kernel_regularizer=l2(l2_lambda)\n",
    "       ))\n",
    "cnn.add(Dropout(0.5)) # add some dropout for regularization, again!\n",
    "cnn.add(Dense(NUM_CLASSES, \n",
    "              activation='softmax', \n",
    "              kernel_initializer='glorot_uniform',\n",
    "              kernel_regularizer=l2(l2_lambda)\n",
    "             ))\n",
    "\n",
    "# Let's train the model \n",
    "cnn.compile(loss='binary_crossentropy',\n",
    "              optimizer='adam',\n",
    "              metrics=['accuracy'])\n",
    "\n",
    "# we need to exapnd the dimensions here to give the \n",
    "#   \"channels\" dimension expected by Keras\n",
    "#cnn.fit(np.expand_dims(X_train, axis=1), y_train_ohe, \n",
    "#        batch_size=256, epochs=50, \n",
    "#        shuffle=False, verbose=0, callbacks=[TQDMNotebookCallback()])\n",
    "\n",
    "# the flow method yields batches of images indefinitely, with the given transformations\n",
    "cnn.fit_generator(datagen.flow(X_train, y_train_ohe, batch_size=128), \n",
    "                   steps_per_epoch=int(len(X_train)/128), # how many generators to go through per epoch\n",
    "                   epochs=50, verbose=0, callbacks=[TQDMNotebookCallback()],\n",
    "                   validation_data=(X_test,y_test_ohe)\n",
    "                  )\n",
    "```"
   ]
  },
  {
   "cell_type": "code",
   "execution_count": 14,
   "metadata": {
    "collapsed": true
   },
   "outputs": [],
   "source": [
    "import h5py\n",
    "from keras.models import load_model\n",
    "import tensorflow as tf\n",
    "sess = tf.InteractiveSession()\n",
    "with sess.as_default():\n",
    "    cnn = load_model('cnn_81.h5')"
   ]
  },
  {
   "cell_type": "markdown",
   "metadata": {},
   "source": [
    "\n",
    "We saved our CNN to a file called cnn_81.h5, named after the accuracy it achieved on the validation set."
   ]
  },
  {
   "cell_type": "code",
   "execution_count": 15,
   "metadata": {},
   "outputs": [
    {
     "name": "stdout",
     "output_type": "stream",
     "text": [
      "[[2007  508]\n",
      " [ 319 2166]]\n",
      "0.8346\n"
     ]
    }
   ],
   "source": [
    "with sess.as_default():\n",
    "    yhat_cnn = np.argmax(cnn.predict(X_test), axis=1)\n",
    "    acc_cnn = mt.accuracy_score(y_test,yhat_cnn)\n",
    "    cm = mt.confusion_matrix(y_test,yhat_cnn)\n",
    "    print(cm)\n",
    "    print(acc_cnn)"
   ]
  },
  {
   "cell_type": "markdown",
   "metadata": {},
   "source": [
    "As we can see, CNN_81 gets slightly above 83% accuracy due to it having already been exposed to some of the data here."
   ]
  },
  {
   "cell_type": "markdown",
   "metadata": {},
   "source": [
    "### CNN Comparison"
   ]
  },
  {
   "cell_type": "markdown",
   "metadata": {},
   "source": [
    "Our second CNN is the similar architecture like before but trained with the large dataset instead."
   ]
  },
  {
   "cell_type": "code",
   "execution_count": 19,
   "metadata": {},
   "outputs": [],
   "source": [
    "# Compare different archs\n",
    "df, X, y = wildcard_to_df('data/data/large/*.jpg')\n",
    "\n",
    "X = X.astype(np.float32)\n",
    "y = y.astype(np.int32)\n",
    "X = X/255\n",
    "\n",
    "n_splits = 5 \n",
    "\n",
    "cnn_scores = []\n",
    "cnn2_scores = []"
   ]
  },
  {
   "cell_type": "code",
   "execution_count": 23,
   "metadata": {},
   "outputs": [
    {
     "name": "stdout",
     "output_type": "stream",
     "text": [
      "CNN1\n",
      "[[1971  498]\n",
      " [ 324 2207]] 0.8356\n",
      "CNN2\n",
      "[[1442 1027]\n",
      " [1002 1529]] 0.5942\n",
      "CNN1\n",
      "[[2023  465]\n",
      " [ 335 2177]] 0.84\n",
      "CNN2\n",
      "[[1465 1023]\n",
      " [ 966 1546]] 0.6022\n",
      "CNN1\n",
      "[[2015  471]\n",
      " [ 356 2158]] 0.8346\n",
      "CNN2\n",
      "[[1508  978]\n",
      " [ 955 1559]] 0.6134\n",
      "CNN1\n",
      "[[2009  484]\n",
      " [ 327 2180]] 0.8378\n",
      "CNN2\n",
      "[[1481 1012]\n",
      " [1000 1507]] 0.5976\n",
      "CNN1\n",
      "[[2015  513]\n",
      " [ 328 2144]] 0.8318\n",
      "CNN2\n",
      "[[1514 1014]\n",
      " [1007 1465]] 0.5958\n",
      "CPU times: user 5min 38s, sys: 22.4 s, total: 6min 1s\n",
      "Wall time: 56.1 s\n"
     ]
    }
   ],
   "source": [
    "%%time\n",
    "\n",
    "# Stratified shuffle split where training set is balanced, test set unbalanced\n",
    "for i in range(0, n_splits):\n",
    "    \n",
    "    X_train, X_test, y_train, y_test = train_test_split(X, y, test_size=0.2)\n",
    "    \n",
    "    X_train_cnn2 = copy.deepcopy(X_train)\n",
    "    X_test_cnn2 = copy.deepcopy(X_test)\n",
    "\n",
    "    X_train = np.expand_dims(X_train.reshape((-1,w,h)), axis=3)\n",
    "    X_test = np.expand_dims(X_test.reshape((-1,w,h)), axis=3)\n",
    "\n",
    "    yhat_cnn = np.argmax(cnn.predict(X_test), axis=1)\n",
    "    \n",
    "    print('CNN1')\n",
    "    print(mt.confusion_matrix(y_test,yhat_cnn),\n",
    "          mt.accuracy_score(y_test,yhat_cnn))\n",
    "    \n",
    "    \n",
    "    yhat_cnn2 = np.argmax(cnn2.predict(np.expand_dims(X_test_cnn2, axis=1)), axis=1)\n",
    "    \n",
    "    print('CNN2')\n",
    "    print(mt.confusion_matrix(y_test,yhat_cnn2),\n",
    "          mt.accuracy_score(y_test,yhat_cnn2))\n",
    "    \n",
    "    \n",
    "    cnn_scores.append(mt.accuracy_score(y_test,yhat_cnn))\n",
    "    cnn2_scores.append(mt.accuracy_score(y_test,yhat_cnn2))"
   ]
  },
  {
   "cell_type": "markdown",
   "metadata": {},
   "source": [
    "We train two different deep network architectures and append the scores in order to visualize them."
   ]
  },
  {
   "cell_type": "code",
   "execution_count": 25,
   "metadata": {},
   "outputs": [
    {
     "name": "stdout",
     "output_type": "stream",
     "text": [
      "CNN1 average: 0.83596\n",
      "CNN2 average: 0.6006400000000001\n"
     ]
    }
   ],
   "source": [
    "print('CNN1 average: {}'.format(np.average(cnn_scores)))\n",
    "print('CNN2 average: {}'.format(np.average(cnn2_scores)))"
   ]
  },
  {
   "cell_type": "markdown",
   "metadata": {},
   "source": [
    "As you can see, the AWS CNN (CNN1) performed significantly better than its rival."
   ]
  },
  {
   "cell_type": "code",
   "execution_count": 27,
   "metadata": {},
   "outputs": [
    {
     "data": {
      "image/png": "[encoded data removed]",
      "text/plain": [
       "<matplotlib.figure.Figure at 0x7f4fdd0b2be0>"
      ]
     },
     "metadata": {},
     "output_type": "display_data"
    }
   ],
   "source": [
    "bar_width = 0.20\n",
    "index = np.arange(n_splits)\n",
    "opacity=0.4\n",
    "\n",
    "plt.bar(index, cnn_scores, bar_width, align='center',\n",
    "        color='b', label='CNN1', alpha=opacity)\n",
    "plt.bar(index + bar_width, cnn2_scores, bar_width,\n",
    "        align='center', color='r', label='CNN2', alpha=opacity)\n",
    "\n",
    "plt.legend()\n",
    "plt.tight_layout()\n",
    "plt.show()"
   ]
  },
  {
   "cell_type": "markdown",
   "metadata": {},
   "source": [
    "### CNN vs MLP"
   ]
  },
  {
   "cell_type": "code",
   "execution_count": 67,
   "metadata": {
    "collapsed": true
   },
   "outputs": [],
   "source": [
    "from numpy import interp\n",
    "from sklearn.metrics import roc_curve, auc\n",
    "df, X, y = wildcard_to_df('data/data/large/*.jpg')\n",
    "\n",
    "X = X.astype(np.float32)\n",
    "y = y.astype(np.int32)\n",
    "X = X/255\n",
    "\n",
    "mlp_roc_auc = []\n",
    "cnn_roc_auc = []\n",
    "\n",
    "mean_tpr_mlp = 0.0\n",
    "mean_fpr_mlp = np.linspace(0, 1, 100)\n",
    "mean_tpr_cnn = 0.0\n",
    "mean_fpr_cnn = np.linspace(0, 1, 100)\n",
    "\n",
    "n_splits = 5"
   ]
  },
  {
   "cell_type": "code",
   "execution_count": 69,
   "metadata": {},
   "outputs": [
    {
     "name": "stdout",
     "output_type": "stream",
     "text": [
      "CNN\n",
      "[[2017  510]\n",
      " [ 312 2161]] 0.8356\n",
      "MLP\n",
      "[[2413  114]\n",
      " [2389   84]] 0.4994\n",
      "4768/5000 [===========================>..] - ETA: 0sCNN\n",
      "[[2054  506]\n",
      " [ 300 2140]] 0.8388\n",
      "MLP\n",
      "[[2441  119]\n",
      " [2341   99]] 0.508\n",
      "3392/5000 [===================>..........] - ETA: 0sCNN\n",
      "[[1993  507]\n",
      " [ 367 2133]] 0.8252\n",
      "MLP\n",
      "[[2384  116]\n",
      " [2409   91]] 0.495\n",
      "4992/5000 [============================>.] - ETA: 0sCNN\n",
      "[[1963  494]\n",
      " [ 328 2215]] 0.8356\n",
      "MLP\n",
      "[[2337  120]\n",
      " [2447   96]] 0.4866\n",
      "3520/5000 [====================>.........] - ETA: 0sCNN\n",
      "[[1987  517]\n",
      " [ 317 2179]] 0.8332\n",
      "MLP\n",
      "[[2382  122]\n",
      " [2398   98]] 0.496\n",
      "5000/5000 [==============================] - 0s     \n",
      "CPU times: user 11min 8s, sys: 48.2 s, total: 11min 56s\n",
      "Wall time: 1min 51s\n"
     ]
    }
   ],
   "source": [
    "%%time\n",
    "for i in range(0, n_splits):\n",
    "\n",
    "    X_train, X_test, y_train, y_test = train_test_split(X, y, test_size=0.2)\n",
    "    \n",
    "    X_train_mlp = copy.deepcopy(X_train)\n",
    "    X_test_mlp = copy.deepcopy(X_test)\n",
    "\n",
    "    X_train = np.expand_dims(X_train.reshape((-1,w,h)), axis=3)\n",
    "    X_test = np.expand_dims(X_test.reshape((-1,w,h)), axis=3)\n",
    "\n",
    "    yhat_cnn = np.argmax(cnn.predict(X_test), axis=1)\n",
    "    yhat_mlp = np.argmax(mlp.predict(X_test_mlp), axis=1)\n",
    "            \n",
    "    print('CNN')\n",
    "    print(mt.confusion_matrix(y_test,yhat_cnn),\n",
    "         mt.accuracy_score(y_test,yhat_cnn))\n",
    "    \n",
    "    print('MLP')\n",
    "    print(mt.confusion_matrix(y_test,yhat_mlp),\n",
    "          mt.accuracy_score(y_test,yhat_mlp))\n",
    "    \n",
    "    probs_cnn = list(cnn.predict_proba(X_test))\n",
    "    probs_cnn = np.array(probs_cnn)[:,1]\n",
    "    fpr_cnn, tpr_cnn, _ = roc_curve(y_test, probs_cnn)\n",
    "    cnn_roc_auc.append((fpr_cnn, tpr_cnn, auc(fpr_cnn, tpr_cnn)))\n",
    "    mean_tpr_cnn += interp(mean_fpr_cnn, fpr_cnn, tpr_cnn)\n",
    "    mean_tpr_cnn[0] = 0.0   \n",
    "\n",
    "    probs_mlp = mlp.predict_proba(X_test_mlp)\n",
    "    probs_mlp = np.array(probs_mlp)[:,1]\n",
    "    fpr_mlp, tpr_mlp, _ = roc_curve(y_test, probs_mlp)\n",
    "    mlp_roc_auc.append((fpr_mlp, tpr_mlp, auc(fpr_mlp, tpr_mlp)))\n",
    "    mean_tpr_mlp  += interp(mean_fpr_mlp, fpr_mlp, tpr_mlp)\n",
    "    mean_tpr_mlp [0] = 0.0"
   ]
  },
  {
   "cell_type": "code",
   "execution_count": 70,
   "metadata": {
    "collapsed": true
   },
   "outputs": [],
   "source": [
    "mean_tpr_mlp /= n_splits\n",
    "mean_tpr_mlp[-1] = 1.0\n",
    "mean_auc_mlp = auc(mean_fpr_mlp, mean_tpr_mlp)\n",
    "\n",
    "mean_tpr_cnn /= n_splits\n",
    "mean_tpr_cnn[-1] = 1.0\n",
    "mean_auc_cnn = auc(mean_fpr_cnn, mean_tpr_cnn)"
   ]
  },
  {
   "cell_type": "code",
   "execution_count": 71,
   "metadata": {},
   "outputs": [
    {
     "data": {
      "image/png": "[encoded data removed]",
      "text/plain": [
       "<matplotlib.figure.Figure at 0x7f5ec11df438>"
      ]
     },
     "metadata": {},
     "output_type": "display_data"
    }
   ],
   "source": [
    "import matplotlib.pyplot as plt\n",
    "\n",
    "plt.figure()\n",
    "lw = 2\n",
    "i = 0\n",
    "for fpr, tpr, auc_ in cnn_roc_auc:\n",
    "        plt.plot(fpr, tpr, color='darkorange',\n",
    "             lw=lw, label='ROC curve # %d (CNN) (area = %0.2f)' % (i, auc_))\n",
    "        i += 1\n",
    "for fpr, tpr, auc_ in mlp_roc_auc:\n",
    "        plt.plot(fpr, tpr, color='green',\n",
    "             lw=lw, label='ROC curve # %d (MLP) (area = %0.2f)' % (i, auc_))\n",
    "        i += 1        \n",
    "        \n",
    "plt.plot(mean_fpr_mlp, mean_tpr_mlp, 'k--', label='mean ROC (MLP) (area = %0.2f)' % mean_auc_mlp, lw=2)\n",
    "plt.plot(mean_fpr_cnn, mean_tpr_cnn, 'k-', label='mean ROC (CNN) (area = %0.2f)' % mean_auc_cnn, lw=2)\n",
    "\n",
    "plt.plot([0, 1], [0, 1], color='navy', lw=lw, linestyle='--')\n",
    "plt.xlim([0.0, 1.0])\n",
    "plt.ylim([0.0, 1.05])\n",
    "plt.xlabel('False Positive Rate')\n",
    "plt.ylabel('True Positive Rate')\n",
    "plt.title('Receiver operating characteristic example')\n",
    "plt.legend(loc=\"lower right\")\n",
    "plt.show()"
   ]
  },
  {
   "cell_type": "markdown",
   "metadata": {},
   "source": [
    "As we can see, our CNN performs far better than the MLP getting up to 84% accuracy which is very impressive."
   ]
  },
  {
   "cell_type": "markdown",
   "metadata": {},
   "source": [
    "## Exceptional Work"
   ]
  },
  {
   "cell_type": "markdown",
   "metadata": {},
   "source": [
    "We visualized the convolution kernels learned by the network. To get to the kernel, we did a little bit of digging through the internels of the keras sequential object."
   ]
  },
  {
   "cell_type": "code",
   "execution_count": 28,
   "metadata": {
    "collapsed": true
   },
   "outputs": [],
   "source": [
    "def show_attributes(obj):\n",
    "    print('\\n'.join(\"%s: %s\" % item for item in vars(obj).items()))"
   ]
  },
  {
   "cell_type": "markdown",
   "metadata": {},
   "source": [
    "This function displays all of the attributes of an object."
   ]
  },
  {
   "cell_type": "code",
   "execution_count": 29,
   "metadata": {},
   "outputs": [
    {
     "data": {
      "text/plain": [
       "<keras.models.Sequential at 0x7f4fdd0b27b8>"
      ]
     },
     "execution_count": 29,
     "metadata": {},
     "output_type": "execute_result"
    }
   ],
   "source": [
    "import h5py\n",
    "import sklearn.metrics as mt\n",
    "from keras.models import load_model\n",
    "import tensorflow as tf\n",
    "sess = tf.InteractiveSession()\n",
    "with sess.as_default():\n",
    "    cnn = load_model('cnn_81.h5')\n",
    "cnn"
   ]
  },
  {
   "cell_type": "markdown",
   "metadata": {},
   "source": [
    "We have to load the cnn using an interactive session in order to preserve the state of the variables learned in the network."
   ]
  },
  {
   "cell_type": "code",
   "execution_count": 30,
   "metadata": {
    "scrolled": false
   },
   "outputs": [
    {
     "name": "stdout",
     "output_type": "stream",
     "text": [
      "_output_mask_cache: {'139980937498352_8591776': None}\n",
      "metrics_tensors: [<tf.Tensor 'Mean_32:0' shape=() dtype=float32>]\n",
      "outbound_nodes: []\n",
      "supports_masking: False\n",
      "metrics: ['accuracy']\n",
      "loss_weights: None\n",
      "input_names: ['conv2d_1_input']\n",
      "_output_tensor_cache: {}\n",
      "_built: True\n",
      "model: <keras.engine.training.Model object at 0x7f4fda079f60>\n",
      "input_layers: [<keras.engine.topology.InputLayer object at 0x7f4fdd0b29b0>]\n",
      "inputs: [<tf.Tensor 'conv2d_1_input_2:0' shape=(?, 50, 50, 1) dtype=float32>]\n",
      "_feed_input_names: ['conv2d_1_input']\n",
      "metrics_names: ['loss', 'acc']\n",
      "optimizer: <keras.optimizers.Adam object at 0x7f4fda079a90>\n",
      "input_layers_tensor_indices: [0]\n",
      "output_names: ['dense_2']\n",
      "nodes_by_depth: {0: [<keras.engine.topology.Node object at 0x7f4fdd0c3ef0>], 1: [<keras.engine.topology.Node object at 0x7f4fda074f98>], 2: [<keras.engine.topology.Node object at 0x7f4fda090b00>], 3: [<keras.engine.topology.Node object at 0x7f4fdd0adda0>], 4: [<keras.engine.topology.Node object at 0x7f4fdd0ae4e0>], 5: [<keras.engine.topology.Node object at 0x7f4fdd0ae6d8>], 6: [<keras.engine.topology.Node object at 0x7f4fd660cef0>], 7: [<keras.engine.topology.Node object at 0x7f4fdd12ca90>], 8: [<keras.engine.topology.Node object at 0x7f4fddf4bb38>], 9: [<keras.engine.topology.Node object at 0x7f4fdd0b2a58>]}\n",
      "_trainable: True\n",
      "_initial_weights: None\n",
      "name: sequential_6\n",
      "output_layers: [<keras.layers.core.Dense object at 0x7f4fda090860>]\n",
      "loss: binary_crossentropy\n",
      "_output_shape_cache: {}\n",
      "inbound_nodes: [<keras.engine.topology.Node object at 0x7f4fda0e09e8>]\n",
      "input_layers_node_indices: [0]\n",
      "layers: [<keras.layers.convolutional.Conv2D object at 0x7f4fdd0b2828>, <keras.layers.pooling.MaxPooling2D object at 0x7f4fda0e0898>, <keras.layers.convolutional.Conv2D object at 0x7f4fdd62dbe0>, <keras.layers.pooling.MaxPooling2D object at 0x7f4fd660cfd0>, <keras.layers.core.Dropout object at 0x7f4fdd0ae4a8>, <keras.layers.core.Flatten object at 0x7f4fdd0aef98>, <keras.layers.core.Dense object at 0x7f4fdd0ae518>, <keras.layers.core.Dropout object at 0x7f4fda090e10>, <keras.layers.core.Dense object at 0x7f4fda090860>]\n",
      "outputs: [<tf.Tensor 'dense_2_3/Softmax:0' shape=(?, 2) dtype=float32>]\n",
      "container_nodes: {'dense_1_ib-0', 'max_pooling2d_2_ib-0', 'dense_2_ib-0', 'dropout_1_ib-0', 'max_pooling2d_1_ib-0', 'conv2d_1_input_ib-0', 'dropout_2_ib-0', 'conv2d_1_ib-0', 'flatten_1_ib-0', 'conv2d_2_ib-0'}\n",
      "sample_weight_mode: None\n",
      "_feed_inputs: [<tf.Tensor 'conv2d_1_input_2:0' shape=(?, 50, 50, 1) dtype=float32>]\n",
      "output_layers_tensor_indices: [0]\n",
      "output_layers_node_indices: [0]\n"
     ]
    }
   ],
   "source": [
    "show_attributes(cnn)"
   ]
  },
  {
   "cell_type": "markdown",
   "metadata": {},
   "source": [
    "We notice that we can access layers through the layers attribute. I take the first layer as it is a convolutional layer so we will be able to grab the filters."
   ]
  },
  {
   "cell_type": "code",
   "execution_count": 31,
   "metadata": {
    "collapsed": true
   },
   "outputs": [],
   "source": [
    "conv_first = cnn.layers[0]"
   ]
  },
  {
   "cell_type": "code",
   "execution_count": 32,
   "metadata": {},
   "outputs": [
    {
     "name": "stdout",
     "output_type": "stream",
     "text": [
      "strides: (1, 1)\n",
      "padding: same\n",
      "outbound_nodes: [<keras.engine.topology.Node object at 0x7f4fdd12ca90>]\n",
      "supports_masking: False\n",
      "dilation_rate: (1, 1)\n",
      "_trainable_weights: [<tf.Variable 'conv2d_1_3/kernel:0' shape=(3, 3, 1, 32) dtype=float32_ref>, <tf.Variable 'conv2d_1_3/bias:0' shape=(32,) dtype=float32_ref>]\n",
      "rank: 2\n",
      "kernel_constraint: None\n",
      "_per_input_updates: {}\n",
      "_built: True\n",
      "bias_constraint: None\n",
      "_initial_weights: None\n",
      "activity_regularizer: None\n",
      "kernel_size: (3, 3)\n",
      "bias_initializer: <keras.initializers.Zeros object at 0x7f4fdd0b2940>\n",
      "dtype: float32\n",
      "_non_trainable_weights: []\n",
      "bias: <tf.Variable 'conv2d_1_3/bias:0' shape=(32,) dtype=float32_ref>\n",
      "name: conv2d_1\n",
      "_constraints: {}\n",
      "data_format: channels_last\n",
      "input_spec: <keras.engine.topology.InputSpec object at 0x7f4fda0e0128>\n",
      "_per_input_losses: {None: [<tf.Tensor 'conv2d_1_3/add:0' shape=() dtype=float32>]}\n",
      "_updates: []\n",
      "inbound_nodes: [<keras.engine.topology.Node object at 0x7f4fddf4bb38>]\n",
      "activation: <function relu at 0x7f4fea1c9f28>\n",
      "filters: 32\n",
      "kernel_initializer: <keras.initializers.VarianceScaling object at 0x7f4fdd0b2898>\n",
      "kernel: <tf.Variable 'conv2d_1_3/kernel:0' shape=(3, 3, 1, 32) dtype=float32_ref>\n",
      "bias_regularizer: None\n",
      "use_bias: True\n",
      "kernel_regularizer: <keras.regularizers.L1L2 object at 0x7f4fdd0b2978>\n",
      "_losses: [<tf.Tensor 'conv2d_1_3/add:0' shape=() dtype=float32>]\n",
      "batch_input_shape: (None, 50, 50, 1)\n",
      "trainable: True\n"
     ]
    }
   ],
   "source": [
    "show_attributes(conv_first)"
   ]
  },
  {
   "cell_type": "code",
   "execution_count": 33,
   "metadata": {},
   "outputs": [
    {
     "data": {
      "text/plain": [
       "[<tf.Variable 'conv2d_1_3/kernel:0' shape=(3, 3, 1, 32) dtype=float32_ref>,\n",
       " <tf.Variable 'conv2d_1_3/bias:0' shape=(32,) dtype=float32_ref>]"
      ]
     },
     "execution_count": 33,
     "metadata": {},
     "output_type": "execute_result"
    }
   ],
   "source": [
    "trainable_weights = conv_first._trainable_weights\n",
    "trainable_weights"
   ]
  },
  {
   "cell_type": "markdown",
   "metadata": {},
   "source": [
    "I notice that there are trainable weights which are of type tf.Variable, but these are not the correct dimensions for the convolutional filters so we keep searching."
   ]
  },
  {
   "cell_type": "code",
   "execution_count": 34,
   "metadata": {
    "collapsed": true,
    "scrolled": false
   },
   "outputs": [],
   "source": [
    "import numpy as np\n",
    "import tensorflow as tf\n",
    "weights = cnn.layers[0].kernel.eval()\n",
    "weights = np.array(weights)"
   ]
  },
  {
   "cell_type": "markdown",
   "metadata": {},
   "source": [
    "The kernel attribute is the correct dimension and can be accesses due to the interactive session we established earlier."
   ]
  },
  {
   "cell_type": "code",
   "execution_count": 35,
   "metadata": {
    "scrolled": true
   },
   "outputs": [
    {
     "data": {
      "text/plain": [
       "(3, 3, 1, 32)"
      ]
     },
     "execution_count": 35,
     "metadata": {},
     "output_type": "execute_result"
    }
   ],
   "source": [
    "weights.shape"
   ]
  },
  {
   "cell_type": "markdown",
   "metadata": {},
   "source": [
    "As we can see, we have 32 3x3 filters."
   ]
  },
  {
   "cell_type": "code",
   "execution_count": 36,
   "metadata": {
    "scrolled": false
   },
   "outputs": [
    {
     "data": {
      "image/png": "[encoded data removed]",
      "text/plain": [
       "<matplotlib.figure.Figure at 0x7f503072bcf8>"
      ]
     },
     "metadata": {},
     "output_type": "display_data"
    }
   ],
   "source": [
    "%matplotlib inline\n",
    "weights = weights.squeeze()\n",
    "# get into friendly format\n",
    "plt.figure()\n",
    "plt.subplots_adjust(bottom=0, left=.01, right=.99, top=.90, hspace=.35)\n",
    "\n",
    "for z,i in zip(np.transpose(weights),range(32)):\n",
    "    plt.subplot(4, 8, i + 1)\n",
    "    plt.imshow(z.reshape((3,3)), cmap=plt.cm.gray,interpolation='none')\n",
    "    plt.xticks(())\n",
    "    plt.yticks(())\n",
    "plt.show()"
   ]
  },
  {
   "cell_type": "markdown",
   "metadata": {
    "collapsed": true
   },
   "source": [
    "All of these filters show up pretty differently which is fascinating. These are the 32 filters that our convolutional neural network trained on the AWS GPU cluster learned."
   ]
  }
 ],
 "metadata": {
  "anaconda-cloud": {},
  "kernelspec": {
   "display_name": "Python 3",
   "language": "python",
   "name": "python3"
  },
  "language_info": {
   "codemirror_mode": {
    "name": "ipython",
    "version": 3
   },
   "file_extension": ".py",
   "mimetype": "text/x-python",
   "name": "python",
   "nbconvert_exporter": "python",
   "pygments_lexer": "ipython3",
   "version": "3.4.2"
  },
  "name": "_merged"
 },
 "nbformat": 4,
 "nbformat_minor": 2
}
